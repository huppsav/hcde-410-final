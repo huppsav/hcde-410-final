{
 "cells": [
  {
   "cell_type": "markdown",
   "id": "b54c56df-d778-4416-90a7-cc8f08525629",
   "metadata": {},
   "source": [
    "## Introduction\n",
    "\n",
    "For my final project, I will be using data from the bachelor/bachelorette seasons to see if theres any specific patterns between the contestants who make it to the finale and win the seasons. I think this will be interesting to look into because every season people love to make guesses on who they think is gonna win based on many different reasons. My goal of this project is to see if there actually is factors that can predict who is gonna win the season, and if so what are the trends that the most winners fall into. "
   ]
  },
  {
   "cell_type": "markdown",
   "id": "d57a8302-1dfd-4a85-8f60-37581a1c181a",
   "metadata": {},
   "source": [
    "## Background\n",
    "Many people are obsessed with predicting the winners of the bachelor franchise and some people have even tried to find correlations between the contestants of all 30+ seasons. We know that there are \"characters\" people play in an attempt to make it farther such as \"the villian\", \"the girl next door\", and \"fan-favorite\", but is there characteristsics about the contestants that are actually getting them far. Peoples Magazine and fivethirtyeight analyzed data from the bachelor and had noticed some trends between the contestants. Some of their findings for this research had been that the most contestants were aged 25, most of the contestants lived in, Chicago, and 35% of recipents of the first impression rose made it to the finale episode. \n",
    "\n",
    "These findings inform my decisions to perform this study because it seems like there could be some type of correlation between the contestants from every season. But these studies only looked at average ages of the contestants, but didn't compare them to the respective lead of that season which means they didn't have any findings related to winning and the age gaps of contestants and leads. Instead of just looking at the average age of the winners, I want to go further and look to see if the age gap between winning contestants and the lead matter. \n",
    "\n",
    "The wesbites which posted this research can be found here: \n",
    "https://people.com/tv/bachelor-stats-age-name-occupation/\n",
    "https://fivethirtyeight.com/features/the-bachelorette/ "
   ]
  },
  {
   "cell_type": "markdown",
   "id": "f1ffb17b-c879-4a70-af67-879ed8a8c40d",
   "metadata": {},
   "source": [
    "## Research Question and Hypotheses"
   ]
  },
  {
   "cell_type": "markdown",
   "id": "fdf5d317-e8c3-4ab7-a8a2-04e9fdf10a9f",
   "metadata": {},
   "source": [
    "For this project my research question is:\n",
    "\n",
    "Does the age gap between contestants and the lead contribute to contestants making it to the finale/winning the season?"
   ]
  },
  {
   "cell_type": "markdown",
   "id": "c6e3f27f-4f05-4247-aa3f-92a401e30b61",
   "metadata": {},
   "source": [
    "I think the age gaps between contestants and leads will have an impact on who is making it to the finale. I think the contestants who are closer in age to the lead will make it to the finale and possibly win\n",
    "- Contestants with an age gap closer to the lead (5 or less years) are more likely to get into the finale of the show"
   ]
  },
  {
   "cell_type": "markdown",
   "id": "378536d9-8dac-49c4-afc2-f383d03d69a4",
   "metadata": {},
   "source": [
    "## Methodology\n",
    "I created my own dataset of the names, ages, and hometowns of the bachelors/bachelorettes and the winners + runner ups of their season as well. My data came from both Bachelor Nation Fandom which is a wikipedia page for fandoms. \n",
    "\n",
    "For the bachelor, I took out the seasons 6, 8, and 11 of the bachelor. I did this because seasons 6 and 8 had incomplete data on those Bachelor Nation Fandom and I thought keeping potentially incorrect data would harm my study. I took out season 11 because there was no winner in that season making it irrevelant to my project.\n",
    "\n",
    "For the bachelorette, I removed data from season 16 because the first bachelorette picked someone in the first couple weeks and then got replaced so her data is removed due to her not having a complete season.\n",
    "\n",
    "Below, I will be finding out the age gaps between the lead and the winner as well as the lead and runner up and then use that to find total counts of every age gap. I calcuated the counts of age gaps into two categories: \"five years or less\" and \"more than 5 years\" as that is what I would classify as a small age gap. I then created visual graphs to looks for patterns in the data and discuss them below."
   ]
  },
  {
   "cell_type": "markdown",
   "id": "04c7043d-41e4-4439-8ab9-8ac343993adb",
   "metadata": {},
   "source": [
    "## Data Analysis"
   ]
  },
  {
   "cell_type": "markdown",
   "id": "7d478fe4-09dc-411a-9d65-059313f9179b",
   "metadata": {},
   "source": [
    "### Step 1: Import Dataset"
   ]
  },
  {
   "cell_type": "markdown",
   "id": "b2e2be6b-bc99-440b-9574-0c4d25d30990",
   "metadata": {},
   "source": [
    "To start off, I will be importing my dataset from Google Sheets and turning it into a list of dictionaries"
   ]
  },
  {
   "cell_type": "code",
   "execution_count": 56,
   "id": "55d2ccc6-8e12-47ba-a3bb-9d3237490634",
   "metadata": {},
   "outputs": [],
   "source": [
    "#import the csv module\n",
    "import csv"
   ]
  },
  {
   "cell_type": "code",
   "execution_count": 57,
   "id": "24a872dc-c0ba-4238-994b-a37ae5331e87",
   "metadata": {},
   "outputs": [],
   "source": [
    "def prepare_datasets(file_path):\n",
    "    \"\"\" \n",
    "    Accepts: path to a tab-separated plaintext file\n",
    "    Returns: a list containing a dictionary for every row in the file, \n",
    "        with the file column headers as keys\n",
    "    \"\"\"\n",
    "    \n",
    "    with open(file_path) as infile:\n",
    "        reader = csv.DictReader(infile, delimiter='\\t')\n",
    "        list_of_dicts = [dict(r) for r in reader]\n",
    "        \n",
    "    return list_of_dicts"
   ]
  },
  {
   "cell_type": "code",
   "execution_count": 58,
   "id": "7c12e4b1-6bdd-48f7-81df-9a118067877a",
   "metadata": {},
   "outputs": [
    {
     "name": "stdout",
     "output_type": "stream",
     "text": [
      "{'Season': '1', 'Bachelor': 'Alex Michel', 'B_Age': '31', 'B_Hometown': 'Charlottesville, Virginia.', 'Winner': 'Amanda Marsh', 'W_Age': '23', 'W_Hometown': 'Chanute, Kansas', 'Runner-up': 'Trista Rehn', 'R_Age': '29', 'R_Hometown': 'St. Louis, Missouri'}\n"
     ]
    }
   ],
   "source": [
    "bachelor_data = prepare_datasets(\"the_bachelor_dataset.tsv\")\n",
    "print(bachelor_data[0])"
   ]
  },
  {
   "cell_type": "markdown",
   "id": "f6b41910-6802-4dce-85a7-c74fcb0ce9a4",
   "metadata": {},
   "source": [
    "### Step 2: Add Person and their age to a list "
   ]
  },
  {
   "cell_type": "markdown",
   "id": "4dddc228-7442-423e-a2be-97db0d8b95f1",
   "metadata": {},
   "source": [
    "Now that we have our datasets loaded, we are going to loop through every season and get the ages of the lead bachelor, the winner, and the runner up. I am going to create three seperate arrays, one for the lead, the winner, the runner up of every season"
   ]
  },
  {
   "cell_type": "code",
   "execution_count": 59,
   "id": "1c48dfa2-de2b-4715-b409-cc713b0c83d4",
   "metadata": {},
   "outputs": [
    {
     "name": "stdout",
     "output_type": "stream",
     "text": [
      "{'Bachelor': 'Alex Michel', 'Age': 31}\n"
     ]
    }
   ],
   "source": [
    "# the empty list\n",
    "bach_Age = []\n",
    "\n",
    "# creates a dictionary for every bachelor\n",
    "for bachelor in bachelor_data:\n",
    "    # format for each dictionary\n",
    "    bachelor_info = {\"Bachelor\": bachelor[\"Bachelor\"], \"Age\": int(bachelor[\"B_Age\"])}\n",
    "    bach_Age.append(bachelor_info)\n",
    "# The age + name of just the first bachelor\n",
    "print(bach_Age[0])"
   ]
  },
  {
   "cell_type": "code",
   "execution_count": 60,
   "id": "4e0dca06-8829-4b7c-8043-2eade0d95bba",
   "metadata": {},
   "outputs": [
    {
     "name": "stdout",
     "output_type": "stream",
     "text": [
      "{'Winner': 'Amanda Marsh', 'Age': 23}\n"
     ]
    }
   ],
   "source": [
    "# the list for the bacehlor winners\n",
    "winner_Age = []\n",
    "\n",
    "# creates a dictionary for every winner\n",
    "for winner in bachelor_data:\n",
    "    #The format for each dictionary \n",
    "    winner_info = {\"Winner\": winner[\"Winner\"], \"Age\": int(winner[\"W_Age\"])}\n",
    "    winner_Age.append(winner_info)\n",
    "print(winner_Age[0])"
   ]
  },
  {
   "cell_type": "code",
   "execution_count": 61,
   "id": "4e00efba-027d-491f-9887-3381646ab0ac",
   "metadata": {},
   "outputs": [
    {
     "name": "stdout",
     "output_type": "stream",
     "text": [
      "{'Runner-Up': 'Trista Rehn', 'Age': 29}\n"
     ]
    }
   ],
   "source": [
    "# the list for the bachelor runner ups\n",
    "runnerUp_Age = []\n",
    "\n",
    "# creates a dictionary for every Runner up\n",
    "for runnerUp in bachelor_data:\n",
    "    runnerUp_info = {\"Runner-Up\": runnerUp[\"Runner-up\"], \"Age\": int(runnerUp[\"R_Age\"])}\n",
    "    runnerUp_Age.append(runnerUp_info)\n",
    "print(runnerUp_Age[0])"
   ]
  },
  {
   "cell_type": "markdown",
   "id": "a8499fe9-1f72-4902-a06b-4e5150379b13",
   "metadata": {},
   "source": [
    "### Step 3: Find Age gaps between leads and Winner + Runner Up"
   ]
  },
  {
   "cell_type": "markdown",
   "id": "4fbe3772-a1e7-41bf-b67b-a2e20779fcb0",
   "metadata": {},
   "source": [
    "Now that I have the ages and names of all the people, I will be extracting the ages for all of them and placing them into their own array. Then I will use those arrays and subtract the ages between the bachelor and their respective winner as well as the bachelor and their respective runner up. These age differences will be placed in two seperate arrays (one for winner and one for runner up) which show the age gaps of all 25 seasons. "
   ]
  },
  {
   "cell_type": "code",
   "execution_count": 83,
   "id": "bbbf1e59-b233-477d-9ec8-c0ea882955a0",
   "metadata": {},
   "outputs": [
    {
     "name": "stdout",
     "output_type": "stream",
     "text": [
      "Bachelor ages: [31, 28, 28, 32, 25, 30, 34, 30, 27, 32, 31, 38, 29, 28, 32, 33, 26, 36, 36, 26, 28, 28, 28, 26, 28]\n",
      "Winner ages: [23, 27, 25, 28, 22, 24, 24, 26, 22, 25, 23, 24, 28, 26, 26, 29, 25, 29, 27, 23, 23, 24, 28, 27, 25]\n",
      "runnerUp ages: [29, 22, 23, 24, 23, 25, 23, 28, 25, 24, 25, 28, 27, 24, 32, 25, 24, 25, 25, 23, 23, 27, 30, 25, 25]\n",
      "\n",
      "Bachelor-Winner age gap: [8, 1, 3, 4, 3, 6, 10, 4, 5, 7, 8, 14, 1, 2, 6, 4, 1, 7, 9, 3, 5, 4, 0, -1, 3]\n",
      "Bachelor-Runner up age gap: [2, 6, 5, 8, 2, 5, 11, 2, 2, 8, 6, 10, 2, 4, 0, 8, 2, 11, 11, 3, 5, 1, -2, 1, 3]\n"
     ]
    }
   ],
   "source": [
    "# This creates an array filled with every age for every bachelor\n",
    "bach_age = [a[\"Age\"] for a in bach_Age]\n",
    "winner_age = [b[\"Age\"] for b in winner_Age] # an array of winner's ages\n",
    "runnerUp_age = [c[\"Age\"] for c in runnerUp_Age] # an array of runner up's ages\n",
    "\n",
    "print(\"Bachelor ages: \" + str(bach_age))\n",
    "print(\"Winner ages: \" + str(winner_age))\n",
    "print(\"runnerUp ages: \" + str(runnerUp_age))\n",
    "\n",
    "# The array with bachelor-winner age gaps\n",
    "bach_winner_age_gap = []\n",
    "# The array with bachelor-runner up age gaps\n",
    "bach_runnerUp_age_gap = []\n",
    "print()\n",
    "\n",
    "# from 0 to the length of the bachelor season\n",
    "for i in range(len(bach_age)):\n",
    "    # add the difference between the bachelor age from their winner's age in the array\n",
    "    bach_winner_age_gap.append(bach_age[i] - winner_age[i])\n",
    "    # add the difference between the bachelor age from their runner up's age in the array\n",
    "    bach_runnerUp_age_gap.append(bach_age[i] - runnerUp_age[i])\n",
    "\n",
    "print(\"Bachelor-Winner age gap: \" + str(bach_winner_age_gap))\n",
    "print(\"Bachelor-Runner up age gap: \" + str(bach_runnerUp_age_gap))"
   ]
  },
  {
   "cell_type": "markdown",
   "id": "dc6c138f-8bfb-4d0a-ba73-53107b36cab1",
   "metadata": {},
   "source": [
    "### Step 4a: Count total number of each age gap for both the winners and the runner Ups"
   ]
  },
  {
   "cell_type": "markdown",
   "id": "0163fe91-e1d4-4a3c-9efd-49c0d4fd4478",
   "metadata": {},
   "source": [
    "Now I'll count the total number of each age gap for both the winners and runner ups. This will allow me to see how many of each age gap total there has been amoung all of the seasons and I can use that to look for patterns within this dataset "
   ]
  },
  {
   "cell_type": "code",
   "execution_count": 63,
   "id": "114cff8f-e060-49ec-b0e4-820140b83978",
   "metadata": {},
   "outputs": [
    {
     "name": "stdout",
     "output_type": "stream",
     "text": [
      "Bachelor-Winner age gap Count: Counter({3: 4, 4: 4, 1: 3, 8: 2, 6: 2, 5: 2, 7: 2, 10: 1, 14: 1, 2: 1, 9: 1, 0: 1, -1: 1})\n",
      "Bachelor-Runner up age gap Count: Counter({2: 6, 5: 3, 8: 3, 11: 3, 6: 2, 3: 2, 1: 2, 10: 1, 4: 1, 0: 1, -2: 1})\n"
     ]
    }
   ],
   "source": [
    "# for this section, I asked chatgpt: \"how can I keep track of total number of numbers in an array. ex: [1, 2, 1, 3]\" \n",
    "# got told to use a counter so used this website for guidance: https://www.geeksforgeeks.org/python-counter-objects-elements/\n",
    "\n",
    "# imports the counter package in python\n",
    "from collections import Counter\n",
    "# Counts number of each age in the arrays\n",
    "count_of_bach_win_age_gap = Counter(bach_winner_age_gap)\n",
    "count_of_bach_runner_age_gap = Counter(bach_runnerUp_age_gap)\n",
    "\n",
    "print(\"Bachelor-Winner age gap Count: \" + str(count_of_bach_win_age_gap))\n",
    "print(\"Bachelor-Runner up age gap Count: \" + str(count_of_bach_runner_age_gap))"
   ]
  },
  {
   "cell_type": "markdown",
   "id": "a73da8bd-d7f4-46b2-9718-49eafac85863",
   "metadata": {},
   "source": [
    "### Step 4b: Get % of each age gap"
   ]
  },
  {
   "cell_type": "markdown",
   "id": "ea353a14-0932-4e63-a7a5-273912e33c62",
   "metadata": {},
   "source": [
    "Now That I have the total count of every age gap, I'm going to find the percent of that age gap compared to the rest of the age gaps in the show. I will have two lists: 1 getting the % for winners and 1 getting the percent for the runner ups and each percent will be % out of total winners or total runner ups "
   ]
  },
  {
   "cell_type": "code",
   "execution_count": 64,
   "id": "ece4e3e7-ed4c-475d-9ca1-ac08346b2f1b",
   "metadata": {},
   "outputs": [
    {
     "name": "stdout",
     "output_type": "stream",
     "text": [
      "{8: 8.0, 1: 12.0, 3: 16.0, 4: 16.0, 6: 8.0, 10: 4.0, 5: 8.0, 7: 8.0, 14: 4.0, 2: 4.0, 9: 4.0, 0: 4.0, -1: 4.0}\n",
      "{2: 24.0, 6: 8.0, 5: 12.0, 8: 12.0, 11: 12.0, 10: 4.0, 4: 4.0, 0: 4.0, 3: 8.0, 1: 8.0, -2: 4.0}\n"
     ]
    }
   ],
   "source": [
    "# empty lists which will carry the percent of each age gap \n",
    "percent_of_each_win_gap = {}\n",
    "percent_of_each_run_gap = {}\n",
    "# This gets all the keys in bach_winner_age gap (aka the age gap number) \n",
    "for i in count_of_bach_win_age_gap:\n",
    "    # percent of the age gap for the winners\n",
    "    percent_of_win_gap = (count_of_bach_win_age_gap[i]/len(bach_age)) * 100\n",
    "    percent_of_each_win_gap[i] = percent_of_win_gap\n",
    "print(percent_of_each_win_gap)\n",
    "\n",
    "# This gets all the keys in bach_runner_up_age gap (aka the age gap number) \n",
    "for i in count_of_bach_runner_age_gap:\n",
    "    # percent of age gap for the runner ups\n",
    "    percent_of_runner_gap = (count_of_bach_runner_age_gap[i]/len(bach_age)) * 100\n",
    "    percent_of_each_run_gap[i] = percent_of_runner_gap\n",
    "print(percent_of_each_run_gap)"
   ]
  },
  {
   "cell_type": "markdown",
   "id": "c923aaf2-b3b9-4ceb-a0bb-a86beea94df5",
   "metadata": {},
   "source": [
    "### Step 5a: Get count of Ages gaps less than 5 years or greater than 5 years"
   ]
  },
  {
   "cell_type": "markdown",
   "id": "b8c004d4-2860-440f-82b3-2b9a6d77181b",
   "metadata": {},
   "source": [
    "To be able to test my hypothesis, I need to be able to see how many people won win an age gap 5 years or less. To see this, I will be doing a count of the age gaps, but instead of counting the number of each age gap, I will be counting the number of age gaps that were either under 5 years or above five years. This wil help em figure out if my hypothesis is true or not."
   ]
  },
  {
   "cell_type": "code",
   "execution_count": 65,
   "id": "a5386f86-d80b-420d-8751-0e3ce3151d43",
   "metadata": {},
   "outputs": [
    {
     "name": "stdout",
     "output_type": "stream",
     "text": [
      "Bachelor winner five-/five+ Count: {'five or less': 16, 'more than 5': 9}\n",
      "Bachelor Runner up five-/five+ Count: {'five or less': 16, 'more than 5': 9}\n"
     ]
    }
   ],
   "source": [
    "# a dictionary counting how many age gaps were under or above 5 years\n",
    "five_below_or_above_age_gap_winner = {\"five or less\": 0, \"more than 5\": 0}\n",
    "five_below_or_above_age_gap_run = {\"five or less\": 0, \"more than 5\": 0}\n",
    "\n",
    "\n",
    "# for every age gap in the winner age gap\n",
    "for i in bach_winner_age_gap:\n",
    "    # if the age gap is less than 5 years (both ways (lead older or younger by 5 or less years)\n",
    "    if (i <= 5 and i >= -5):\n",
    "        # add to the five or less years count\n",
    "        five_below_or_above_age_gap_winner[\"five or less\"] += 1\n",
    "    else:\n",
    "        # add to the more than 5 years count\n",
    "        five_below_or_above_age_gap_winner[\"more than 5\"] += 1\n",
    "        \n",
    "# Repeat for the bachelor runner up\n",
    "# for every age gap in the winner age gap\n",
    "for i in bach_runnerUp_age_gap:\n",
    "    # if the age gap is less than 5 years (both ways (lead older or younger by 5 or less years)\n",
    "    if (i <= 5 and i >= -5):\n",
    "        # add to the five or less years count\n",
    "        five_below_or_above_age_gap_run[\"five or less\"] += 1\n",
    "    else:\n",
    "        # add to the more than 5 years count\n",
    "        five_below_or_above_age_gap_run[\"more than 5\"] += 1\n",
    "print(\"Bachelor winner five-/five+ Count: \" + str(five_below_or_above_age_gap_winner))\n",
    "print(\"Bachelor Runner up five-/five+ Count: \" + str(five_below_or_above_age_gap_run))"
   ]
  },
  {
   "cell_type": "markdown",
   "id": "f0f32d20-28f7-4821-9f63-25199b74023e",
   "metadata": {},
   "source": [
    "### Step 5b: Get % of ages gaps under and over 5 years"
   ]
  },
  {
   "cell_type": "markdown",
   "id": "be5b1e65-7334-44f1-a913-e2992f1b0095",
   "metadata": {},
   "source": [
    "I will also be finding out the percentage of age gaps that were under or over five years. To do this I will take the total number of age gaps for under five years and divide it by total age gaps for both the winners and runner ups "
   ]
  },
  {
   "cell_type": "code",
   "execution_count": 66,
   "id": "10ba2577-2dc3-4882-a7f0-20a9b39656c2",
   "metadata": {},
   "outputs": [
    {
     "name": "stdout",
     "output_type": "stream",
     "text": [
      "Winners: {'five or less': 64.0, 'more than 5': 36.0}\n",
      "Runner Ups: {'five or less': 64.0, 'more than 5': 36.0}\n"
     ]
    }
   ],
   "source": [
    "# used this website to learn how to use sum(): https://stackoverflow.com/questions/4880960/how-to-sum-all-the-values-in-a-dictionary#:~:text=USE%20sum()%20TO%20SUM,values%20from%20the%20previous%20step.\n",
    "# sum of all values in the age gap count\n",
    "total_winner_age = sum(five_below_or_above_age_gap_winner.values())\n",
    "total_runner_age = sum(five_below_or_above_age_gap_run.values())\n",
    "# percent for winner age gaps. 5+ and 5- years\n",
    "percent_five_age_gap_winner = {\n",
    "    \"five or less\": (five_below_or_above_age_gap_winner[\"five or less\"] / total_winner_age) * 100, \n",
    "    \"more than 5\": (five_below_or_above_age_gap_winner[\"more than 5\"] / total_winner_age) * 100\n",
    "}\n",
    "# percent for runner up age gaps 5+ and 5- years\n",
    "percent_five_age_gap_run = {\n",
    "    \"five or less\": (five_below_or_above_age_gap_run[\"five or less\"] / total_runner_age) * 100, \n",
    "    \"more than 5\": (five_below_or_above_age_gap_run[\"more than 5\"] / total_runner_age) * 100\n",
    "}\n",
    "\n",
    "print(\"Winners: \" + str(percent_five_age_gap_winner))\n",
    "print(\"Runner Ups: \" + str(percent_five_age_gap_run))"
   ]
  },
  {
   "cell_type": "markdown",
   "id": "4b07b644-132a-493f-9d19-1d02750d7380",
   "metadata": {},
   "source": [
    "### Repeat steps 1-5 for The Bachelorette"
   ]
  },
  {
   "cell_type": "markdown",
   "id": "12208a16-340e-4ca3-905d-8b2357d80c61",
   "metadata": {},
   "source": [
    "Similar to the bachelor, I will be repeating the same steps as earlier, but now using my data from the bacherlorette winner's and runner ups"
   ]
  },
  {
   "cell_type": "markdown",
   "id": "0e46a8e8-e6d0-41e6-ae23-1b2e253d935f",
   "metadata": {},
   "source": [
    "### Step 1: Import dataset"
   ]
  },
  {
   "cell_type": "markdown",
   "id": "b0309efb-b7ce-48e2-8208-1ec261ef1e7d",
   "metadata": {},
   "source": [
    "I'll use the method earlier to import my data set and turn it into a list of dictionaries"
   ]
  },
  {
   "cell_type": "code",
   "execution_count": 67,
   "id": "fb636770-c349-46e3-b577-9143dc12bb94",
   "metadata": {},
   "outputs": [
    {
     "name": "stdout",
     "output_type": "stream",
     "text": [
      "{'Season': '1', 'Bachelorette': 'Trista Rehn', 'B_Age': '30', 'b_Hometown': 'Indianapolis, Indiana', 'Winner': 'Ryan Sutter', 'W_Age': '28', 'W_Hometown': 'Vail, Colorado', 'Runner Up': 'Charlie Maher', 'R_Age': '28', 'R_Hometown': 'Hermosa Beach, California'}\n"
     ]
    }
   ],
   "source": [
    "bachelorette_data = prepare_datasets(\"bachelorette_dataset.tsv\")\n",
    "print(bachelorette_data[0])"
   ]
  },
  {
   "cell_type": "markdown",
   "id": "cfadebc1-c674-43fc-9ae1-881600d925a3",
   "metadata": {},
   "source": [
    "### Step 2:  Add Person and their age to a list"
   ]
  },
  {
   "cell_type": "markdown",
   "id": "437299ea-84af-4056-9a31-1d8714810903",
   "metadata": {},
   "source": [
    "I will add all of the Bachelorettes, Bachelorette winners and runner ups into 3 seperate arrays. These arrays will contain lists containing each persons name and age. "
   ]
  },
  {
   "cell_type": "code",
   "execution_count": 68,
   "id": "a0b0ea37-c755-4482-8b2c-e9efe80d46a4",
   "metadata": {},
   "outputs": [
    {
     "name": "stdout",
     "output_type": "stream",
     "text": [
      "{'Bachelorette': 'Trista Rehn', 'Age': 30}\n"
     ]
    }
   ],
   "source": [
    "# the empty list\n",
    "bachette_Age = [] # bachette will be the shortened term for the bachelorette data\n",
    "\n",
    "# creates a dictionary for every bachelor\n",
    "for bachelorette in bachelorette_data:\n",
    "    # gets info for every bachelorette in the dicionary\n",
    "    bachelorette_info = {\"Bachelorette\": bachelorette[\"Bachelorette\"], \"Age\": int(bachelorette[\"B_Age\"])}\n",
    "    bachette_Age.append(bachelorette_info)\n",
    "    \n",
    "print(bachette_Age[0])"
   ]
  },
  {
   "cell_type": "code",
   "execution_count": 69,
   "id": "5a0caff8-1cab-479c-b8f2-ffe34de2edf8",
   "metadata": {},
   "outputs": [
    {
     "name": "stdout",
     "output_type": "stream",
     "text": [
      "{'Winner': 'Ryan Sutter', 'Age': 28}\n"
     ]
    }
   ],
   "source": [
    "# the empty list\n",
    "bachette_winner_Age = []\n",
    "\n",
    "# creates a dictionary for every bachelorette winner's name and their age\n",
    "for winner in bachelorette_data:\n",
    "    # gets info for every bachelorette winner in the dicionary\n",
    "    bachette_winner_info = {\"Winner\": winner[\"Winner\"], \"Age\": int(winner[\"W_Age\"])}\n",
    "    bachette_winner_Age.append(bachette_winner_info)\n",
    "    \n",
    "print(bachette_winner_Age[0])"
   ]
  },
  {
   "cell_type": "code",
   "execution_count": 70,
   "id": "20233246-5a41-45ed-aecd-e97a0abd512e",
   "metadata": {},
   "outputs": [
    {
     "name": "stdout",
     "output_type": "stream",
     "text": [
      "{'RunnerUp': 'Charlie Maher', 'Age': 28}\n"
     ]
    }
   ],
   "source": [
    "# the empty list\n",
    "bachette_runner_Age = []\n",
    "\n",
    "# creates a dictionary for every bachelorette runner up's name and their age\n",
    "for runnerUp in bachelorette_data:\n",
    "    # gets info for every bachelorette runner up in the dicionary\n",
    "    bachette_runner_info = {\"RunnerUp\":  runnerUp[\"Runner Up\"], \"Age\": int(runnerUp[\"R_Age\"])}\n",
    "    bachette_runner_Age.append(bachette_runner_info)\n",
    "    \n",
    "print(bachette_runner_Age[0])"
   ]
  },
  {
   "cell_type": "markdown",
   "id": "059ec65e-53cb-4134-b918-b0ac0b928424",
   "metadata": {},
   "source": [
    "### Step 3:  Find Age gaps between leads and Winner + Runner Up"
   ]
  },
  {
   "cell_type": "markdown",
   "id": "997b0e23-2d1a-41f7-9f44-38b805bfd336",
   "metadata": {},
   "source": [
    "Similar to earlier with the Bachelor data, now with the ages and names of all the people, I will be extracting the ages for all of them and placing them into their own array. Then I will use those arrays and subtract the ages between the bachelor and their respective winner as well as the bachelor and their respective runner up. These age differences will be placed in two seperate arrays (one for winner and one for runner up) which show the age gaps of all 25 seasons. "
   ]
  },
  {
   "cell_type": "code",
   "execution_count": 95,
   "id": "b16bc544-6b4f-4bbf-b659-4a717f9feee6",
   "metadata": {},
   "outputs": [
    {
     "name": "stdout",
     "output_type": "stream",
     "text": [
      "Bachelorette ages: [30, 29, 30, 27, 29, 25, 26, 26, 27, 26, 29, 25, 31, 28, 24, 29, 30, 28, 26, 31, 27, 26]\n",
      "Bachelorette Winner ages: [28, 29, 29, 26, 29, 26, 34, 27, 27, 29, 28, 27, 37, 29, 25, 36, 30, 27, 28, 29, 30, 28]\n",
      "Bachelorette runnerUp ages: [28, 28, 25, 31, 31, 33, 28, 30, 27, 33, 34, 27, 31, 28, 26, 30, 26, 26, 28, 30, 27, 31]\n",
      "\n",
      "Bachelorette-Winner age gap: [2, 0, 1, 1, 0, -1, -8, -1, 0, -3, 1, -2, -6, -1, -1, -7, 0, 1, -2, 2, -3, -2]\n",
      "Bachelorette-Runner up age gaps: [2, 1, 5, -4, -2, -8, -2, -4, 0, -7, -5, -2, 0, 0, -2, -1, 4, 2, -2, 1, 0, -5]\n"
     ]
    }
   ],
   "source": [
    "# This creates an array filled with every age for every bachelor\n",
    "bachette_age = [a[\"Age\"] for a in bachette_Age]\n",
    "bachette_winner_age = [b[\"Age\"] for b in bachette_winner_Age] # an array with every age of the winner's age\n",
    "bachette_runner_age = [c[\"Age\"] for c in bachette_runner_Age] # an array with every age of the runner ups age\n",
    "\n",
    "print(\"Bachelorette ages: \" + str(bachette_age))\n",
    "print(\"Bachelorette Winner ages: \" + str(bachette_winner_age))\n",
    "print(\"Bachelorette runnerUp ages: \" + str(bachette_runner_age))\n",
    "print()\n",
    "\n",
    "# empty arrays for age gaps for both the winner and runner ups\n",
    "bachette_winner_age_gap = []\n",
    "bachette_runner_age_gap = []\n",
    "\n",
    "# for 0 to the length of the bachelorette seasons\n",
    "for i in range(len(bachette_age)):\n",
    "    # will add the age difference between bachelorette and winners to a new array\n",
    "    bachette_winner_age_gap.append(bachette_age[i] - bachette_winner_age[i])\n",
    "    # will add the age difference between bachelorette and runner ups to a new array \n",
    "    bachette_runner_age_gap.append(bachette_age[i] - bachette_runner_age[i])\n",
    "\n",
    "print(\"Bachelorette-Winner age gap: \" + str(bachette_winner_age_gap))\n",
    "print(\"Bachelorette-Runner up age gaps: \" + str(bachette_runner_age_gap))"
   ]
  },
  {
   "cell_type": "markdown",
   "id": "9e4c22a3-5f99-4e71-bb95-aa9a665c10dc",
   "metadata": {},
   "source": [
    "### Step 4a: Count total number of each age gap for both the winners and the runner Ups"
   ]
  },
  {
   "cell_type": "markdown",
   "id": "5222beae-c945-499f-8d5c-8f127cfc0905",
   "metadata": {},
   "source": [
    "I'll use the array of age gaps to count the total number of each age gap for both the winners and runner ups. I will keep the winner's age gaps and the runner up age gaps seperate when I do the count for each so I can later compare them to each other"
   ]
  },
  {
   "cell_type": "code",
   "execution_count": 96,
   "id": "102db8b9-909a-4725-a8bc-3a92d8313fe4",
   "metadata": {},
   "outputs": [
    {
     "name": "stdout",
     "output_type": "stream",
     "text": [
      "Counter({0: 4, 1: 4, -1: 4, -2: 3, 2: 2, -3: 2, -8: 1, -6: 1, -7: 1})\n",
      "Counter({-2: 5, 0: 4, 2: 2, 1: 2, -4: 2, -5: 2, 5: 1, -8: 1, -7: 1, -1: 1, 4: 1})\n"
     ]
    }
   ],
   "source": [
    "# for this section, I asked chatgpt: \"how can I keep track of total number of numbers in an array. ex: [1, 2, 1, 3]\" \n",
    "# got told to use a counter so used this website for guidance: https://www.geeksforgeeks.org/python-counter-objects-elements/\n",
    "\n",
    "# Will count the total amount of each number in the previous array\n",
    "count_of_bachette_win_age_gap = Counter(bachette_winner_age_gap)\n",
    "count_of_bachette_run_age_gap = Counter(bachette_runner_age_gap)\n",
    "\n",
    "print(count_of_bachette_win_age_gap)\n",
    "print(count_of_bachette_run_age_gap)"
   ]
  },
  {
   "cell_type": "markdown",
   "id": "ce248e6d-9470-44f3-85cc-cb1ed20fe3a7",
   "metadata": {},
   "source": [
    "### Step 4b: Get % of each age gap"
   ]
  },
  {
   "cell_type": "markdown",
   "id": "b2822070-1199-43ae-bc62-4f0bad764892",
   "metadata": {},
   "source": [
    "Now That I have the total count of every age gap, I'm going to find the percent of that age gap compared to the rest of the age gaps in the show. I will have two lists: 1 getting the % for winners and 1 getting the percent for the runner ups and each percent will be % out of total winners or total runner ups "
   ]
  },
  {
   "cell_type": "code",
   "execution_count": 93,
   "id": "ed62154e-c0f5-4d0b-9b2c-47428389188b",
   "metadata": {},
   "outputs": [
    {
     "name": "stdout",
     "output_type": "stream",
     "text": [
      "{2: 9.1, 0: 18.2, 1: 18.2, -1: 18.2, -8: 4.5, -3: 9.1, -2: 13.6, -6: 4.5, -7: 4.5}\n",
      "{2: 9.1, 1: 9.1, 5: 4.5, -4: 9.1, -2: 22.7, -8: 4.5, 0: 18.2, -7: 4.5, -5: 9.1, -1: 4.5, 4: 4.5}\n"
     ]
    }
   ],
   "source": [
    "# empty lists which will carry the percent of each age gap \n",
    "percent_of_each_bachette_win_gap = {}\n",
    "percent_of_each_bachette_run_gap = {}\n",
    "# This gets all the keys in bach_winner_age gap (aka the age gap number) \n",
    "for i in count_of_bachette_win_age_gap:\n",
    "    # percent of the age gap for the winners\n",
    "    percent_of_bachette_win_gap = round((count_of_bachette_win_age_gap[i]/len(bachette_age)) * 100,1)\n",
    "    percent_of_each_bachette_win_gap[i] = percent_of_bachette_win_gap\n",
    "print(percent_of_each_bachette_win_gap) \n",
    "\n",
    "# This gets all the keys in bach_runner_up_age gap (aka the age gap number) \n",
    "for i in count_of_bachette_run_age_gap:\n",
    "    # percent of age gap for the runner ups\n",
    "    percent_of_bachette_runner_gap = round((count_of_bachette_run_age_gap[i]/len(bachette_age)) * 100, 1)\n",
    "    percent_of_each_bachette_run_gap[i] = percent_of_bachette_runner_gap\n",
    "print(percent_of_each_bachette_run_gap)"
   ]
  },
  {
   "cell_type": "markdown",
   "id": "7dd570ab-6a49-4a6d-a765-fc5deffac84e",
   "metadata": {},
   "source": [
    "### Step 5a: Get count of Ages gaps less than 5 years or greater than 5 years"
   ]
  },
  {
   "cell_type": "markdown",
   "id": "6580bb5e-cbac-49f6-850a-79dfad080933",
   "metadata": {},
   "source": [
    "To be able to test my hypothesis, I need to be able to see how many people won win an age gap 5 years or less for both the bachelor and bachelorette. So now I will be  doing a count of the age gaps for the bachelorette, but instead of counting the number of each age gap, I will be counting the number of age gaps that were either under 5 years or above five years. This wil help me figure out if my hypothesis is true or not."
   ]
  },
  {
   "cell_type": "code",
   "execution_count": 94,
   "id": "b5e36dde-4f6d-47f5-aa2e-f7fe058c8083",
   "metadata": {},
   "outputs": [
    {
     "name": "stdout",
     "output_type": "stream",
     "text": [
      "Bachelor winner five-/five+ Count: {'five or less': 19, 'more than 5': 3}\n",
      "Bachelor Runner up five-/five+ Count: {'five or less': 20, 'more than 5': 2}\n"
     ]
    }
   ],
   "source": [
    "# a dictionary counting how many age gaps were under or above 5 years\n",
    "bachette_five_below_or_above_age_gap_winner = {\"five or less\": 0, \"more than 5\": 0}\n",
    "bachette_five_below_or_above_age_gap_run = {\"five or less\": 0, \"more than 5\": 0}\n",
    "\n",
    "\n",
    "# for every age gap in the winner age gap\n",
    "for i in bachette_winner_age_gap:\n",
    "    # if the age gap is less than 5 years (both ways (lead older or younger by 5 or less years)\n",
    "    if (i <= 5 and i >= -5):\n",
    "        # add to the five or less years count\n",
    "        bachette_five_below_or_above_age_gap_winner[\"five or less\"] += 1\n",
    "    else:\n",
    "        # add to the more than 5 years count\n",
    "        bachette_five_below_or_above_age_gap_winner[\"more than 5\"] += 1\n",
    "        \n",
    "# Repeat for the bachelorette runner up\n",
    "# for every age gap in the winner age gap\n",
    "for i in bachette_runner_age_gap:\n",
    "    # if the age gap is less than 5 years (both ways (lead older or younger by 5 or less years)\n",
    "    if (i <= 5 and i >= -5):\n",
    "        # add to the five or less years count\n",
    "        bachette_five_below_or_above_age_gap_run[\"five or less\"] += 1\n",
    "    else:\n",
    "        # add to the more than 5 years count\n",
    "        bachette_five_below_or_above_age_gap_run[\"more than 5\"] += 1\n",
    "print(\"Bachelor winner five-/five+ Count: \" + str(bachette_five_below_or_above_age_gap_winner))\n",
    "print(\"Bachelor Runner up five-/five+ Count: \" + str(bachette_five_below_or_above_age_gap_run))"
   ]
  },
  {
   "cell_type": "markdown",
   "id": "55ba301d-5138-462e-905f-4936b513b774",
   "metadata": {},
   "source": [
    "### Step 5b: Get % of ages gaps under and over 5 years"
   ]
  },
  {
   "cell_type": "markdown",
   "id": "1266c70f-9fdc-4279-80c8-723298d0885a",
   "metadata": {},
   "source": [
    "Now that I have the counts of the age gaps for 5 years or less and more than 5 year, I'm going to find the % of each of those gaps. To do this, I will be dividing the age gap for either five+ years or five- by the total amount of age gaps to figure out the % of each category of age gap. "
   ]
  },
  {
   "cell_type": "code",
   "execution_count": 104,
   "id": "b6f7789d-22d7-447a-8183-68b14d62543d",
   "metadata": {},
   "outputs": [
    {
     "name": "stdout",
     "output_type": "stream",
     "text": [
      "Winners: {'five or less': 86.4, 'more than 5': 13.6}\n",
      "Runner Ups: {'five or less': 90.9, 'more than 5': 9.1}\n"
     ]
    }
   ],
   "source": [
    "# sum of all values in the age gap count\n",
    "bachette_total_winner_age = sum(bachette_five_below_or_above_age_gap_winner.values())\n",
    "bachette_total_runner_age = sum(bachette_five_below_or_above_age_gap_run.values())\n",
    "# percent for winner age gaps. 5+ and 5- years\n",
    "bachette_percent_five_age_gap_winner = {\n",
    "    \"five or less\": round((bachette_five_below_or_above_age_gap_winner[\"five or less\"] / bachette_total_winner_age) * 100, 1), \n",
    "    \"more than 5\": round((bachette_five_below_or_above_age_gap_winner[\"more than 5\"] / bachette_total_runner_age) * 100, 1)\n",
    "}\n",
    "# percent for runner up age gaps 5+ and 5- years\n",
    "bachette_percent_five_age_gap_run = {\n",
    "    \"five or less\": round((bachette_five_below_or_above_age_gap_run[\"five or less\"] / bachette_total_runner_age) * 100, 1),\n",
    "    \"more than 5\": round((bachette_five_below_or_above_age_gap_run[\"more than 5\"] / bachette_total_runner_age) * 100,1)\n",
    "}\n",
    "\n",
    "print(\"Winners: \" + str(bachette_percent_five_age_gap_winner))\n",
    "print(\"Runner Ups: \" + str(bachette_percent_five_age_gap_run))"
   ]
  },
  {
   "cell_type": "markdown",
   "id": "22331de5-0970-4b6e-8589-c9710fb78fb6",
   "metadata": {},
   "source": [
    "## Step 6: Visualizations"
   ]
  },
  {
   "cell_type": "markdown",
   "id": "367190a0-288e-4002-8cb6-4c70efdf1633",
   "metadata": {},
   "source": [
    "Now that I have both the count of total age gaps and the % of each age gap for both the winners and the runner ups on both the Bachelor and the Bachelorette, I will be creating visualizations in order to compare my datasets and look for patterns in both of my datasets."
   ]
  },
  {
   "cell_type": "code",
   "execution_count": 105,
   "id": "5eb7aeed-9291-4131-b6b3-e7ce382d523f",
   "metadata": {},
   "outputs": [
    {
     "data": {
      "image/png": "[encoded data removed]",
      "text/plain": [
       "<Figure size 640x480 with 1 Axes>"
      ]
     },
     "metadata": {},
     "output_type": "display_data"
    }
   ],
   "source": [
    "# used this website to help me set up the axis ranges:https://www.geeksforgeeks.org/how-to-set-axis-ranges-in-matplotlib/\n",
    "import matplotlib.pyplot as plt\n",
    "import numpy as np\n",
    "\n",
    "plt.bar(count_of_bach_win_age_gap.keys(), count_of_bach_win_age_gap.values(), color=\"pink\")\n",
    "# asked chatgpt how I could arrange the x axis from -2 to 15 with an incrememnt of 1\n",
    "plt.xticks(np.arange(-2, 16, 1))\n",
    "plt.yticks(np.arange(0, 5, 1))\n",
    "plt.xlabel('Age Gap')\n",
    "plt.ylabel('total number of that age gap')\n",
    "plt.title('Total Number Of Each Age Gap on the Bachelor - Winners')\n",
    "\n",
    "plt.savefig('bach_age_gap_winners.jpeg', format='jpeg')\n",
    "plt.show()"
   ]
  },
  {
   "cell_type": "code",
   "execution_count": 106,
   "id": "7ce8952d-2970-462b-ba63-dd321b516427",
   "metadata": {},
   "outputs": [
    {
     "data": {
      "image/png": "[encoded data removed]",
      "text/plain": [
       "<Figure size 640x480 with 1 Axes>"
      ]
     },
     "metadata": {},
     "output_type": "display_data"
    }
   ],
   "source": [
    "plt.bar(count_of_bach_runner_age_gap.keys(), count_of_bach_runner_age_gap.values(), color =\"pink\")\n",
    "plt.xticks(np.arange(-2, 13, 1))\n",
    "plt.yticks(np.arange(0, 8, 1))\n",
    "plt.xlabel('Age Gap')\n",
    "plt.ylabel('total number of that age gap')\n",
    "plt.title('Total Number Of Each Age Gap On the Bachelor - Runner Ups')\n",
    "plt.savefig('bach_age_gap_runnerups.jpeg', format='jpeg')\n",
    "plt.show()"
   ]
  },
  {
   "cell_type": "code",
   "execution_count": 107,
   "id": "6b61f38c-a692-4e5a-97ae-7f6ad5d1db90",
   "metadata": {},
   "outputs": [
    {
     "data": {
      "image/png": "[encoded data removed]",
      "text/plain": [
       "<Figure size 640x480 with 1 Axes>"
      ]
     },
     "metadata": {},
     "output_type": "display_data"
    }
   ],
   "source": [
    "plt.bar(count_of_bachette_win_age_gap.keys(), count_of_bachette_win_age_gap.values(), color =\"red\")\n",
    "plt.xticks(np.arange(-10, 5, 1))\n",
    "plt.yticks(np.arange(0, 6, 1))\n",
    "plt.xlabel('Age Gap')\n",
    "plt.ylabel('total number of that age gap')\n",
    "plt.title('Total Number Of Each Age Gap On the Bachelorette - Winners')\n",
    "plt.savefig('bachette_age_gap_winners.jpeg', format='jpeg')\n",
    "plt.show()"
   ]
  },
  {
   "cell_type": "code",
   "execution_count": 108,
   "id": "0ca37cd8-6dfb-4ae9-934d-69b2ec07378c",
   "metadata": {},
   "outputs": [
    {
     "data": {
      "image/png": "[encoded data removed]",
      "text/plain": [
       "<Figure size 640x480 with 1 Axes>"
      ]
     },
     "metadata": {},
     "output_type": "display_data"
    }
   ],
   "source": [
    "plt.bar(count_of_bachette_run_age_gap.keys(), count_of_bachette_run_age_gap.values(), color =\"red\")\n",
    "plt.xticks(np.arange(-9, 8, 1))\n",
    "plt.yticks(np.arange(0, 7, 1))\n",
    "plt.xlabel('Age Gap')\n",
    "plt.ylabel('total number of that age gap')\n",
    "plt.title('Total Number Of Each Age Gap On the Bachelorette - Runner ups')\n",
    "plt.savefig('bachette_age_gap_runnerups.jpeg', format='jpeg')\n",
    "plt.show()"
   ]
  },
  {
   "cell_type": "markdown",
   "id": "42094f61-82f7-45e4-8e9f-7e9306113779",
   "metadata": {},
   "source": [
    "### Comparing Bachelor and Bachelorette data"
   ]
  },
  {
   "cell_type": "markdown",
   "id": "88dfe4b5-eaae-4c5b-b253-8207d17b1c94",
   "metadata": {},
   "source": [
    "Since I've found the percentage of age gaps for over and under 5 years for the winners and runner ups, I'm going to compare both sets of data for the Bachelor and Bachelorette to each other to see if there's patterns between both sets of data."
   ]
  },
  {
   "cell_type": "code",
   "execution_count": 109,
   "id": "75b795da-730d-4406-8d39-5f2fa1e22218",
   "metadata": {},
   "outputs": [
    {
     "name": "stdout",
     "output_type": "stream",
     "text": [
      "Bachelor Winner %: {'five or less': 64.0, 'more than 5': 36.0}\n",
      "Bachelor runner up %: {'five or less': 64.0, 'more than 5': 36.0}\n",
      "Bachelorette Winner %: {'five or less': 86.4, 'more than 5': 13.6}\n",
      "Bachelor runner up %: {'five or less': 90.9, 'more than 5': 9.1}\n"
     ]
    }
   ],
   "source": [
    "print(\"Bachelor Winner %: \" + str(percent_five_age_gap_winner))\n",
    "print(\"Bachelor runner up %: \" + str(percent_five_age_gap_run))\n",
    "print(\"Bachelorette Winner %: \" + str(bachette_percent_five_age_gap_winner))\n",
    "print(\"Bachelor runner up %: \" + str(bachette_percent_five_age_gap_run))"
   ]
  },
  {
   "cell_type": "markdown",
   "id": "e6ef8d28-1e73-4dca-b01a-f031374721bd",
   "metadata": {},
   "source": [
    "Above, shows the % for each type of contestant, winning or runner up, on their show, Bachelor or Bachelorette, with the percentages of age gaps of 5 years or under or above 5 years. "
   ]
  },
  {
   "cell_type": "markdown",
   "id": "521e59c2-2196-4c68-8897-3a24a515161d",
   "metadata": {},
   "source": [
    "With these percentages, I will be creating a multi bar chart to compare each groups % of age gaps for over or under 5 years. "
   ]
  },
  {
   "cell_type": "code",
   "execution_count": 110,
   "id": "84e0e619-e636-475d-a1e9-94033d5e2a63",
   "metadata": {},
   "outputs": [
    {
     "data": {
      "image/png": "[encoded data removed]",
      "text/plain": [
       "<Figure size 1000x700 with 1 Axes>"
      ]
     },
     "metadata": {},
     "output_type": "display_data"
    }
   ],
   "source": [
    "# used this website to help me plot my multi bar chart: https://www.geeksforgeeks.org/plotting-multiple-bar-charts-using-matplotlib-in-python/\n",
    "plt.subplots(figsize=(10,7))\n",
    "X = [\"Bachelor Winner\", \"Bachelor Runner Up\", \"Bachelorette Winner\", \"Bachelorette Runner Up\"]\n",
    "\n",
    "# the age gap % for all groups \"five or less\" year age gaps\n",
    "five_or_less = [percent_five_age_gap_winner[\"five or less\"],\n",
    "         percent_five_age_gap_run[\"five or less\"],\n",
    "         bachette_percent_five_age_gap_winner[\"five or less\"],\n",
    "         bachette_percent_five_age_gap_run[\"five or less\"]\n",
    "         ] \n",
    "# the age gap for all % groups \"more than 5\" year age gaps\n",
    "more_than_5 = [percent_five_age_gap_winner[\"more than 5\"],\n",
    "        percent_five_age_gap_run[\"more than 5\"],\n",
    "        bachette_percent_five_age_gap_winner[\"more than 5\"],\n",
    "        bachette_percent_five_age_gap_run[\"more than 5\"]] \n",
    "\n",
    "X_axis = np.arange(len(X)) \n",
    "  \n",
    "plt.bar(X_axis -0.2, five_or_less, 0.4, label = 'five or less years') \n",
    "plt.bar(X_axis + 0.2, more_than_5, 0.4, label = 'more than 5 years')\n",
    "  \n",
    "plt.xticks(X_axis, X) \n",
    "plt.xlabel(\"Contestant type\") \n",
    "plt.ylabel(\"Percentage of age gap\") \n",
    "plt.title(\"Percentage of each age gap over or under 5 years\") \n",
    "plt.legend() \n",
    "plt.savefig('comparing_Age_gap_%.jpeg', format='jpeg')\n",
    "plt.show()"
   ]
  },
  {
   "cell_type": "markdown",
   "id": "554a9982-f536-4d86-a73e-081a548877f3",
   "metadata": {},
   "source": [
    "## Findings (findings)"
   ]
  },
  {
   "cell_type": "markdown",
   "id": "1e99df0a-79b1-4506-a800-c177a154e370",
   "metadata": {},
   "source": [
    "Based on the results from my project, I found two interesting patterns in the data. \n",
    "\n",
    "The first being that in the bachelor rarely any winners or runner ups were older than the male lead. For the winners, in the 25 seasons I observed, only 1 women who won was the same age and 1 was a year older than the bachelor while the 23 other winners were younger than the male lead. Similarly, out of the 25 runner ups, 1 woman was 2 years older and one was the same age as the lead while the other 23 were younger as well. This suggests that the males prefer for a woman to be younger than them.\n",
    "\n",
    "The woman leads however, chose male runner ups and winners who were both older or younger than them. For the winning males, 12 were older than the woman while 10 were either the same age or younger than the woman. For the runner ups, 12 males were older while 10 were younger than the woman. Because this is about 50/50 for both winners and runner ups it doesn't suggest that woman tend have a strong preference for men being younger or older than them. \n",
    "\n",
    "My second finding is that people with an age gap of 5 years or less won more often than people with an age gap of more than 5 years. In the Bachelor, 64% of the winners had an age gap of less than 5 years while only 36% had an age gap of more than 5 years. Additionally, Bachelor runner ups shared the same percentage where 64% had an age gap of 64% and 36% were 5+ years older. Bachelorette winners and runner ups had the highest percentage of winners where the bachelorette winners had a smaller age gap percentage at 86.4% where only 13.4% were 5+ years older. The Bachelorette runner ups had a percentage of 90.9% of them having a 5 year or less age difference and only 9.1% having a larger than 5 year age gap. This shows that more people had won and/or made it to the finale with a smaller age gap, suggesting that having a smaller age gap makes you more likely to win the show.\n"
   ]
  },
  {
   "cell_type": "markdown",
   "id": "92d8a777-fd3f-43f8-b576-b17462b54572",
   "metadata": {},
   "source": [
    "## Discussion (reflection on process)"
   ]
  },
  {
   "cell_type": "markdown",
   "id": "eaebe97d-9709-4f54-a9eb-ae1246fd9f65",
   "metadata": {},
   "source": [
    "#### Limitations:\n",
    "Some limitations in my project include: limited dataset, focusing on one variable, and the fact that relationships are complicated. \n",
    "\n",
    "Because the Bachelor is only 28 seasons and the Bachelorette is 21 seasons, I already had a smaller dataset since there was only ~50 seasons to go through. Additionally, I chose to only focus on leads, winners and runner ups narrowing my dataset to 3 people per season, having about 150 people total in the dataset.\n",
    "\n",
    "Another potential limitation is that this project only focused on one potential variable when selecting a winner on the show: age. However, relationships are complicated and there are many factors that likely go into picking a partner. While my results show that the majority of age gaps between leads and contestants were 5 years or less suggesting a closer age gap may have been a factor in people making it far into the finale, its important to note that age is most likely not the only considering factor for the lead when choosing who they wanted to propose to. There are other potential factors such as personality or shared values/belief systems which may have had a factor in the decision, but they are too complex to measure in this project.\n",
    "\n",
    "#### Implications:\n",
    "This project could be a stepping stone to future research which could look into more than one factor for contestants winning the bachelor/bachelorette. Results from this project could also be used by the producers when making casting desisions for the two reality shows and this could influence how both the leads and contstants are chosen.\n",
    "\n",
    "Looking back, when I first started this project I thought comparing the age gaps of just the finalists (runner ups and winners) would be sufficient in determining if age gap had an impact on who made it to the finale. While I still think my dataset showed me patterns that age may matter in the show, I think my project would have been stronger if I included data from other contestants who didn't make it as far. If I were to go back and/or continue working on this in the future, I would include data from constestants who didn't make it to the finale and compare that to the ones who did as I feel that could strengthen my data results. "
   ]
  },
  {
   "cell_type": "markdown",
   "id": "a39cef3f-9a2e-4b44-8878-d659dfd2d2b8",
   "metadata": {},
   "source": [
    "## Conclusion"
   ]
  },
  {
   "cell_type": "markdown",
   "id": "1100dc23-2b8d-40ed-b859-e0f510fd7dbf",
   "metadata": {},
   "source": [
    "The goal of my project was to see if age had any impact on who was making it to the finale and winning the Bachelor/Bachelorette. I looked at the age gaps between the leads and contestants and found the % of every age gap between a group (bach winner, bach runner up, bachette winner, bachette runner up) as well as the percentages for the groups for the age gaps under 5 years and above 5 years. Based on the reuslts, it seems as though age may have an impact on contestants making it to the finale, and that people closer in age to the lead may have a higher chance of winning compared to someone with a larger age gap. Despite these results, further research would need to be done to determine if that is the most signifcant factor for leads choosing a winner. "
   ]
  },
  {
   "cell_type": "markdown",
   "id": "a2c32731-32cc-4626-8840-c79e6238e9ba",
   "metadata": {},
   "source": [
    "## References"
   ]
  },
  {
   "cell_type": "markdown",
   "id": "01ed04eb-293d-432e-9689-bcb2bcb9e010",
   "metadata": {},
   "source": [
    "Links to Past Research:\n",
    "https://people.com/\n",
    "tv/bachelor-stats-age-name-occupation/, \n",
    "https://fivethirtyeight.com/features/the-bachelorette/ \n",
    "\n",
    "Website where data was collected:\n",
    "https://bachelor-nation.fandom.com/wiki/The_Bachelor\n",
    "https://bachelor-nation.fandom.com/wiki/The_Bachelorette\n",
    "\n",
    "Websites I used to help with the code:\n",
    "https://www.geeksforgeeks.org/how-to-set-axis-ranges-in-matplotlib/\n",
    "https://www.geeksforgeeks.org/plotting-multiple-bar-charts-using-matplotlib-in-python/\n",
    "https://www.geeksforgeeks.org/python-counter-objects-elements/\n",
    "https://stackoverflow.com/questions/4880960/how-to-sum-all-the-values-in-adictionary#:~:text=USE%20sum()%20TO%20SUM,values%20from%20the%20previous%20step."
   ]
  }
 ],
 "metadata": {
  "kernelspec": {
   "display_name": "Python 3 (ipykernel)",
   "language": "python",
   "name": "python3"
  },
  "language_info": {
   "codemirror_mode": {
    "name": "ipython",
    "version": 3
   },
   "file_extension": ".py",
   "mimetype": "text/x-python",
   "name": "python",
   "nbconvert_exporter": "python",
   "pygments_lexer": "ipython3",
   "version": "3.10.13"
  }
 },
 "nbformat": 4,
 "nbformat_minor": 5
}
