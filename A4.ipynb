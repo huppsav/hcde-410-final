{
 "cells": [
  {
   "cell_type": "markdown",
   "id": "b29cbb52-622f-4cf3-949e-e9ad18ba79e9",
   "metadata": {},
   "source": [
    "# Overview and Research Questions\n",
    " \n",
    "For my final project, I will be using data from the bachelor/bachelorette seasons to see if theres any patterns between the contestants who make it to the finale and win the seasons. I think this will be interesting to look into because every season people love to make guesses on who they think is gonna win based on many different reasons.  My goal of this project is to see if there actually is factors that can predict who is gonna win the season, and if so what are the trends that the most winners fall into. "
   ]
  },
  {
   "cell_type": "markdown",
   "id": "dbf2b6d6-2ff6-41b5-8965-4c8627e4464e",
   "metadata": {},
   "source": [
    "### Research Question:\n",
    "Do factors such as age gap or hometown distances between contestants and the lead contribute to contestants making it to the finale/winning the season?"
   ]
  },
  {
   "cell_type": "markdown",
   "id": "20c09c83-754c-4ddb-b095-19c0c5a6851c",
   "metadata": {
    "jp-MarkdownHeadingCollapsed": true
   },
   "source": [
    "### Hypothesis:\n",
    "I think the age gaps between contestants and leads will have an impact on who is making it to the finale. \n",
    "- Contestants with an age gap closer to the lead are more likely to get further in the show"
   ]
  },
  {
   "cell_type": "markdown",
   "id": "c95f1888-2ec5-4ce1-9c2e-9f89170f660c",
   "metadata": {},
   "source": [
    "# Background/Related Work\n",
    "Many people are obsessed with predicting the winners of the bachelor franchise and some people have even tried to find correlations between the  contestants of all 30+ seasons. We know that there are \"chaaracters\" people play in an attempt to make it farther such as \"the villian\", \"the girl next door\", and \"fan-favorite\", but is there characteristsics about the contestants that are actually getting them far. Peoples Magazine and fivethirtyeight analyzed data from the bachelor and had noticed some trends between the contestants. The findings for this research were the most contestants were aged 25, the # of city each contestant lived in, the highest being Chicago, and 35% of recipents of the first impression rose made it to the finale episode. \n",
    "\n",
    "These findings inform my decisions to perform this study because it seems like there is some type of correlation between the contestants from every season. But these studies only looked at average ages of the contestants which doesn't show any correlation between winning and the age of contestants and leads. Instead of just looking at the average age of the winners, I want to go further and look to see if the age gap between winning contestants and the lead matter.\n",
    "\n",
    "The wesbites which posted this research can be found here: \n",
    "https://people.com/\n",
    "tv/bachelor-stats-age-name-occupation/, \n",
    "https://fivethirtyeight.com/features/the-bachelorette/ "
   ]
  },
  {
   "cell_type": "markdown",
   "id": "f6620d71-b3e3-4e27-a4d2-123e5ea0218d",
   "metadata": {},
   "source": [
    "# Methodology\n",
    "\n",
    "I will be using basic statisical analysis to find out age gaps and distances of hometowns between the contestants and leads. This will help me figure out general trends between the contestants. To show the visualization for age gaps, I will be using a bubble graph to show % of winners with different age gaps. For the hometown distances, I will be using a heatmap with lines connecting the winning contestants and leads which will show popular hometowns as well as distances between the winning person's hometown and the lead. \n",
    "\n",
    "To go further with this,I will be using a Chi-square Test to see if there is a association between either age gap and winning or hometown distances and winning. \n",
    "\n",
    "These data visualization methods are appropriate to present my data because they will show general trends between these two factors with the winning contestants. The Chi test is appropriate for this because it will show if there is an association between my factors and winning."
   ]
  }
 ],
 "metadata": {
  "kernelspec": {
   "display_name": "Python 3 (ipykernel)",
   "language": "python",
   "name": "python3"
  },
  "language_info": {
   "codemirror_mode": {
    "name": "ipython",
    "version": 3
   },
   "file_extension": ".py",
   "mimetype": "text/x-python",
   "name": "python",
   "nbconvert_exporter": "python",
   "pygments_lexer": "ipython3",
   "version": "3.10.13"
  }
 },
 "nbformat": 4,
 "nbformat_minor": 5
}
